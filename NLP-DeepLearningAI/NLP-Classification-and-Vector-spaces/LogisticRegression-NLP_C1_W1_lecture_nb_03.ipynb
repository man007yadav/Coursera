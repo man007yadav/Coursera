{
 "cells": [
  {
   "cell_type": "markdown",
   "metadata": {},
   "source": [
    "# Visualizing tweets and the Logistic Regression model\n",
    "\n",
    "**Objectives:** Visualize and interpret the logistic regression model\n",
    "\n",
    "**Steps:**\n",
    "* Plot tweets in a scatter plot using their positive and negative sums.\n",
    "* Plot the output of the logistic regression model in the same plot as a solid line"
   ]
  },
  {
   "cell_type": "markdown",
   "metadata": {},
   "source": [
    "## Import the required libraries\n",
    "\n",
    "We will be using [*NLTK*](http://www.nltk.org/howto/twitter.html), an opensource NLP library, for collecting, handling, and processing Twitter data. In this lab, we will use the example dataset that comes alongside with NLTK. This dataset has been manually annotated and serves to establish baselines for models quickly. \n",
    "\n",
    "So, to start, let's import the required libraries. "
   ]
  },
  {
   "cell_type": "code",
   "execution_count": 1,
   "metadata": {},
   "outputs": [],
   "source": [
    "import nltk                         # NLP toolbox\n",
    "from os import getcwd\n",
    "import pandas as pd                 # Library for Dataframes \n",
    "from nltk.corpus import twitter_samples \n",
    "import matplotlib.pyplot as plt     # Library for visualization\n",
    "import numpy as np                  # Library for math functions\n",
    "\n",
    "from utils import process_tweet, build_freqs # Our functions for NLP"
   ]
  },
  {
   "cell_type": "markdown",
   "metadata": {},
   "source": [
    "## Load the NLTK sample dataset\n",
    "\n",
    "To complete this lab, you need the sample dataset of the previous lab. Here, we assume the files are already available, and we only need to load into Python lists."
   ]
  },
  {
   "cell_type": "code",
   "execution_count": 2,
   "metadata": {},
   "outputs": [
    {
     "name": "stdout",
     "output_type": "stream",
     "text": [
      "Number of tweets:  8000\n"
     ]
    }
   ],
   "source": [
    "# select the set of positive and negative tweets\n",
    "all_positive_tweets = twitter_samples.strings('positive_tweets.json')\n",
    "all_negative_tweets = twitter_samples.strings('negative_tweets.json')\n",
    "\n",
    "tweets = all_positive_tweets + all_negative_tweets ## Concatenate the lists. \n",
    "labels = np.append(np.ones((len(all_positive_tweets),1)), np.zeros((len(all_negative_tweets),1)), axis = 0)\n",
    "\n",
    "# split the data into two pieces, one for training and one for testing (validation set) \n",
    "train_pos  = all_positive_tweets[:4000]\n",
    "train_neg  = all_negative_tweets[:4000]\n",
    "\n",
    "train_x = train_pos + train_neg \n",
    "\n",
    "print(\"Number of tweets: \", len(train_x))"
   ]
  },
  {
   "cell_type": "markdown",
   "metadata": {},
   "source": [
    "# Load the extracted features\n",
    "\n",
    "Part of this week's assignment is the creation of the numerical features needed for the Logistic regression model. In order not to interfere with it, we have previously calculated and stored these features in a CSV file for the entire training set.\n",
    "\n",
    "So, please load these features created for the tweets sample. "
   ]
  },
  {
   "cell_type": "code",
   "execution_count": 4,
   "metadata": {},
   "outputs": [
    {
     "data": {
      "text/html": [
       "<div>\n",
       "<style scoped>\n",
       "    .dataframe tbody tr th:only-of-type {\n",
       "        vertical-align: middle;\n",
       "    }\n",
       "\n",
       "    .dataframe tbody tr th {\n",
       "        vertical-align: top;\n",
       "    }\n",
       "\n",
       "    .dataframe thead th {\n",
       "        text-align: right;\n",
       "    }\n",
       "</style>\n",
       "<table border=\"1\" class=\"dataframe\">\n",
       "  <thead>\n",
       "    <tr style=\"text-align: right;\">\n",
       "      <th></th>\n",
       "      <th>bias</th>\n",
       "      <th>positive</th>\n",
       "      <th>negative</th>\n",
       "      <th>sentiment</th>\n",
       "    </tr>\n",
       "  </thead>\n",
       "  <tbody>\n",
       "    <tr>\n",
       "      <th>0</th>\n",
       "      <td>1.0</td>\n",
       "      <td>3020.0</td>\n",
       "      <td>61.0</td>\n",
       "      <td>1.0</td>\n",
       "    </tr>\n",
       "    <tr>\n",
       "      <th>1</th>\n",
       "      <td>1.0</td>\n",
       "      <td>3573.0</td>\n",
       "      <td>444.0</td>\n",
       "      <td>1.0</td>\n",
       "    </tr>\n",
       "    <tr>\n",
       "      <th>2</th>\n",
       "      <td>1.0</td>\n",
       "      <td>3005.0</td>\n",
       "      <td>115.0</td>\n",
       "      <td>1.0</td>\n",
       "    </tr>\n",
       "    <tr>\n",
       "      <th>3</th>\n",
       "      <td>1.0</td>\n",
       "      <td>2862.0</td>\n",
       "      <td>4.0</td>\n",
       "      <td>1.0</td>\n",
       "    </tr>\n",
       "    <tr>\n",
       "      <th>4</th>\n",
       "      <td>1.0</td>\n",
       "      <td>3119.0</td>\n",
       "      <td>225.0</td>\n",
       "      <td>1.0</td>\n",
       "    </tr>\n",
       "    <tr>\n",
       "      <th>5</th>\n",
       "      <td>1.0</td>\n",
       "      <td>2955.0</td>\n",
       "      <td>119.0</td>\n",
       "      <td>1.0</td>\n",
       "    </tr>\n",
       "    <tr>\n",
       "      <th>6</th>\n",
       "      <td>1.0</td>\n",
       "      <td>3934.0</td>\n",
       "      <td>538.0</td>\n",
       "      <td>1.0</td>\n",
       "    </tr>\n",
       "    <tr>\n",
       "      <th>7</th>\n",
       "      <td>1.0</td>\n",
       "      <td>3162.0</td>\n",
       "      <td>276.0</td>\n",
       "      <td>1.0</td>\n",
       "    </tr>\n",
       "    <tr>\n",
       "      <th>8</th>\n",
       "      <td>1.0</td>\n",
       "      <td>628.0</td>\n",
       "      <td>189.0</td>\n",
       "      <td>1.0</td>\n",
       "    </tr>\n",
       "    <tr>\n",
       "      <th>9</th>\n",
       "      <td>1.0</td>\n",
       "      <td>264.0</td>\n",
       "      <td>112.0</td>\n",
       "      <td>1.0</td>\n",
       "    </tr>\n",
       "  </tbody>\n",
       "</table>\n",
       "</div>"
      ],
      "text/plain": [
       "   bias  positive  negative  sentiment\n",
       "0   1.0    3020.0      61.0        1.0\n",
       "1   1.0    3573.0     444.0        1.0\n",
       "2   1.0    3005.0     115.0        1.0\n",
       "3   1.0    2862.0       4.0        1.0\n",
       "4   1.0    3119.0     225.0        1.0\n",
       "5   1.0    2955.0     119.0        1.0\n",
       "6   1.0    3934.0     538.0        1.0\n",
       "7   1.0    3162.0     276.0        1.0\n",
       "8   1.0     628.0     189.0        1.0\n",
       "9   1.0     264.0     112.0        1.0"
      ]
     },
     "execution_count": 4,
     "metadata": {},
     "output_type": "execute_result"
    }
   ],
   "source": [
    "data = pd.read_csv('logistic_features.csv'); # Load a 3 columns csv file using pandas function\n",
    "data.head(10) # Print the first 10 data entries"
   ]
  },
  {
   "cell_type": "markdown",
   "metadata": {},
   "source": [
    "Now let us get rid of the data frame to keep only Numpy arrays."
   ]
  },
  {
   "cell_type": "code",
   "execution_count": 5,
   "metadata": {},
   "outputs": [
    {
     "name": "stdout",
     "output_type": "stream",
     "text": [
      "(8000, 3)\n",
      "[[1.000e+00 3.020e+03 6.100e+01]\n",
      " [1.000e+00 3.573e+03 4.440e+02]\n",
      " [1.000e+00 3.005e+03 1.150e+02]\n",
      " ...\n",
      " [1.000e+00 1.440e+02 7.830e+02]\n",
      " [1.000e+00 2.050e+02 3.890e+03]\n",
      " [1.000e+00 1.890e+02 3.974e+03]]\n"
     ]
    }
   ],
   "source": [
    "# Each feature is labeled as bias, positive and negative\n",
    "X = data[['bias', 'positive', 'negative']].values # Get only the numerical values of the dataframe\n",
    "Y = data['sentiment'].values; # Put in Y the corresponding labels or sentiments\n",
    "\n",
    "print(X.shape) # Print the shape of the X part\n",
    "print(X) # Print some rows of X"
   ]
  },
  {
   "cell_type": "markdown",
   "metadata": {},
   "source": [
    "## Load a pretrained Logistic Regression model\n",
    "\n",
    "In the same way, as part of this week's assignment, a Logistic regression model must be trained. The next cell contains the resulting model from such training. Notice that a list of 3 numeric values represents the whole model since our numerical vector for each tweet has three values, that we have called _theta_ $\\theta$."
   ]
  },
  {
   "cell_type": "code",
   "execution_count": 6,
   "metadata": {},
   "outputs": [],
   "source": [
    "theta = [7e-08, 0.0005239, -0.00055517]"
   ]
  },
  {
   "cell_type": "markdown",
   "metadata": {},
   "source": [
    "## Plot the samples in a scatter plot\n",
    "\n",
    "The vector theta represents a plane that split our feature space into two parts. Samples located over that plane are considered positive, and samples located under that plane are considered negative. Remember that we have a 3D feature space, i.e., each tweet is represented as a vector comprised of three values: `[bias, positive_sum, negative_sum]`, always having `bias = 1`. \n",
    "\n",
    "If we ignore the bias term, we can plot each tweet in a cartesian plane, using `positive_sum` and `negative_sum`. In the cell below, we do precisely this. Additionally, we color each tweet, depending on its class. Positive tweets will be green and negative tweets will be red."
   ]
  },
  {
   "cell_type": "code",
   "execution_count": 8,
   "metadata": {},
   "outputs": [
    {
     "data": {
      "text/plain": [
       "Text(0, 0.5, 'Negative')"
      ]
     },
     "execution_count": 8,
     "metadata": {},
     "output_type": "execute_result"
    },
    {
     "data": {
      "image/png": "[encoded data removed]",
      "text/plain": [
       "<Figure size 720x720 with 1 Axes>"
      ]
     },
     "metadata": {
      "needs_background": "light"
     },
     "output_type": "display_data"
    }
   ],
   "source": [
    "# Plot the samples using columns 1 and 2 of the matrix\n",
    "fig, ax = plt.subplots(figsize = (10, 10))\n",
    "\n",
    "colors = ['red', 'green']\n",
    "\n",
    "# Color based on the sentiment Y\n",
    "ax.scatter(X[:,1], X[:,2], c=[colors[int(k)] for k in Y], s = 0.1)  # Plot a dot for each pair of words\n",
    "plt.xlabel(\"Positive\")\n",
    "plt.ylabel(\"Negative\")"
   ]
  },
  {
   "cell_type": "markdown",
   "metadata": {},
   "source": [
    "From the plot, it is evident that the features that we have chosen to represent tweets as numerical vectors allow an almost perfect separation between positive and negative tweets. So you can expect a very high accuracy for this model! \n",
    "\n",
    "## Plot the model alongside the data\n",
    "\n",
    "We will draw a gray line to show the cutoff between the positive and negative regions. In other words, the gray line marks the line where $$ z = \\theta * x = 0.$$\n",
    "To draw this line, we have to solve the above equation in terms of one of the independent variables.\n",
    "\n",
    "$$ z = \\theta * x = 0$$\n",
    "$$ x = [1, pos, neg] $$\n",
    "$$ z(\\theta, x) = \\theta_0+ \\theta_1 * pos + \\theta_2 * neg = 0 $$\n",
    "$$ neg = (-\\theta_0 - \\theta_1 * pos) / \\theta_2 $$\n",
    "\n",
    "The red and green lines that point in the direction of the corresponding sentiment are calculated using a perpendicular line to the separation line calculated in the previous equations(neg function). It must point in the same direction as the derivative of the Logit function, but the magnitude may differ. It is only for a visual representation of the model. \n",
    "\n",
    "$$direction = pos * \\theta_2 / \\theta_1$$"
   ]
  },
  {
   "cell_type": "code",
   "execution_count": 9,
   "metadata": {},
   "outputs": [],
   "source": [
    "# Equation for the separation plane\n",
    "# It give a value in the negative axe as a function of a positive value\n",
    "# f(pos, neg, W) = w0 + w1 * pos + w2 * neg = 0\n",
    "# s(neg, W) = (-w0 - w1 * pos) / w2\n",
    "def neg(theta, pos):\n",
    "    return (-theta[0] - pos * theta[1]) / theta[2]\n",
    "\n",
    "# Equation for the direction of the sentiments change\n",
    "# We don't care about the magnitude of the change. We are only interested \n",
    "# in the direction. So this direction is just a perpendicular function to the \n",
    "# separation plane\n",
    "# df(pos, W) = pos * w2 / w1\n",
    "def direction(theta, pos):\n",
    "    return    pos * theta[2] / theta[1]"
   ]
  },
  {
   "cell_type": "markdown",
   "metadata": {},
   "source": [
    "The green line in the chart points in the direction where z > 0 and the red line points in the direction where z < 0. The direction of these lines are given by the weights $\\theta_1$ and $\\theta_2$"
   ]
  },
  {
   "cell_type": "code",
   "execution_count": 10,
   "metadata": {},
   "outputs": [
    {
     "data": {
      "image/png": "[encoded data removed]",
      "text/plain": [
       "<Figure size 720x720 with 1 Axes>"
      ]
     },
     "metadata": {
      "needs_background": "light"
     },
     "output_type": "display_data"
    }
   ],
   "source": [
    "# Plot the samples using columns 1 and 2 of the matrix\n",
    "fig, ax = plt.subplots(figsize = (10, 10))\n",
    "\n",
    "colors = ['red', 'green']\n",
    "\n",
    "# Color base on the sentiment Y\n",
    "ax.scatter(X[:,1], X[:,2], c=[colors[int(k)] for k in Y], s = 0.1)  # Plot a dot for each pair of words\n",
    "plt.xlabel(\"Positive\")\n",
    "plt.ylabel(\"Negative\")\n",
    "\n",
    "# Now lets represent the logistic regression model in this chart. \n",
    "maxpos = np.max(X[:,1])\n",
    "\n",
    "offset = 5000 # The pos value for the direction vectors origin\n",
    "\n",
    "# Plot a gray line that divides the 2 areas.\n",
    "ax.plot([0,  maxpos], [neg(theta, 0),   neg(theta, maxpos)], color = 'gray') \n",
    "\n",
    "# Plot a green line pointing to the positive direction\n",
    "ax.arrow(offset, neg(theta, offset), offset, direction(theta, offset), head_width=500, head_length=500, fc='g', ec='g')\n",
    "# Plot a red line pointing to the negative direction\n",
    "ax.arrow(offset, neg(theta, offset), -offset, -direction(theta, offset), head_width=500, head_length=500, fc='r', ec='r')\n",
    "\n",
    "plt.show()"
   ]
  },
  {
   "cell_type": "markdown",
   "metadata": {},
   "source": [
    "**Note that more critical than the Logistic regression itself, are the features extracted from tweets that allow getting the right results in this exercise.**\n",
    "\n",
    "That is all, folks. Hopefully, now you understand better what the Logistic regression model represents, and why it works that well for this specific problem. "
   ]
  }
 ],
 "metadata": {
  "kernelspec": {
   "display_name": "Python 3",
   "language": "python",
   "name": "python3"
  },
  "language_info": {
   "codemirror_mode": {
    "name": "ipython",
    "version": 3
   },
   "file_extension": ".py",
   "mimetype": "text/x-python",
   "name": "python",
   "nbconvert_exporter": "python",
   "pygments_lexer": "ipython3",
   "version": "3.7.1"
  }
 },
 "nbformat": 4,
 "nbformat_minor": 4
}
